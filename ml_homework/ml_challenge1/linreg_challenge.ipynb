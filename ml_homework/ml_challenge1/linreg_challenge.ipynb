{
 "cells": [
  {
   "cell_type": "code",
   "execution_count": 282,
   "metadata": {},
   "outputs": [],
   "source": [
    "import pandas as pd\n",
    "import seaborn as sb\n",
    "import numpy as np\n",
    "import xgboost as xgb\n",
    "from sklearn.impute import KNNImputer\n",
    "from sklearn.model_selection import train_test_split\n",
    "from sklearn.linear_model import LinearRegression\n",
    "from sklearn.impute import SimpleImputer\n",
    "from sklearn.metrics import mean_squared_error, mean_absolute_error\n",
    "from sklearn.preprocessing import StandardScaler, PolynomialFeatures\n",
    "from sklearn.ensemble import BaggingRegressor, GradientBoostingRegressor\n",
    "from sklearn.linear_model import LinearRegression, Ridge, Lasso, ElasticNet\n",
    "from sklearn.ensemble import StackingRegressor\n",
    "from sklearn.feature_selection import SelectKBest, f_regression\n",
    "from xgboost import XGBRegressor"
   ]
  },
  {
   "cell_type": "code",
   "execution_count": 283,
   "metadata": {},
   "outputs": [],
   "source": [
    "# Путь к загруженному файлу\n",
    "file_path = 'data/prices_train.csv'"
   ]
  },
  {
   "cell_type": "code",
   "execution_count": 284,
   "metadata": {},
   "outputs": [
    {
     "data": {
      "text/html": [
       "<div>\n",
       "<style scoped>\n",
       "    .dataframe tbody tr th:only-of-type {\n",
       "        vertical-align: middle;\n",
       "    }\n",
       "\n",
       "    .dataframe tbody tr th {\n",
       "        vertical-align: top;\n",
       "    }\n",
       "\n",
       "    .dataframe thead th {\n",
       "        text-align: right;\n",
       "    }\n",
       "</style>\n",
       "<table border=\"1\" class=\"dataframe\">\n",
       "  <thead>\n",
       "    <tr style=\"text-align: right;\">\n",
       "      <th></th>\n",
       "      <th>Unnamed: 0</th>\n",
       "      <th>X1 transaction date</th>\n",
       "      <th>X2 house age</th>\n",
       "      <th>X3 distance to the nearest MRT station</th>\n",
       "      <th>X4 number of convenience stores</th>\n",
       "      <th>X5 latitude</th>\n",
       "      <th>X6 longitude</th>\n",
       "      <th>Y house price of unit area</th>\n",
       "    </tr>\n",
       "  </thead>\n",
       "  <tbody>\n",
       "    <tr>\n",
       "      <th>0</th>\n",
       "      <td>0</td>\n",
       "      <td>2013.083</td>\n",
       "      <td>34.0</td>\n",
       "      <td>157.6052</td>\n",
       "      <td>7.0</td>\n",
       "      <td>24.96628</td>\n",
       "      <td>121.54196</td>\n",
       "      <td>39.1</td>\n",
       "    </tr>\n",
       "    <tr>\n",
       "      <th>1</th>\n",
       "      <td>1</td>\n",
       "      <td>2013.500</td>\n",
       "      <td>13.3</td>\n",
       "      <td>561.9845</td>\n",
       "      <td>5.0</td>\n",
       "      <td>24.98746</td>\n",
       "      <td>121.54391</td>\n",
       "      <td>54.8</td>\n",
       "    </tr>\n",
       "    <tr>\n",
       "      <th>2</th>\n",
       "      <td>2</td>\n",
       "      <td>2012.917</td>\n",
       "      <td>13.7</td>\n",
       "      <td>1236.5640</td>\n",
       "      <td>1.0</td>\n",
       "      <td>24.97694</td>\n",
       "      <td>121.55391</td>\n",
       "      <td>30.6</td>\n",
       "    </tr>\n",
       "    <tr>\n",
       "      <th>3</th>\n",
       "      <td>3</td>\n",
       "      <td>2013.500</td>\n",
       "      <td>8.5</td>\n",
       "      <td>104.8101</td>\n",
       "      <td>5.0</td>\n",
       "      <td>24.96674</td>\n",
       "      <td>121.54067</td>\n",
       "      <td>55.5</td>\n",
       "    </tr>\n",
       "    <tr>\n",
       "      <th>4</th>\n",
       "      <td>4</td>\n",
       "      <td>2013.500</td>\n",
       "      <td>13.2</td>\n",
       "      <td>1164.8380</td>\n",
       "      <td>NaN</td>\n",
       "      <td>24.99156</td>\n",
       "      <td>121.53406</td>\n",
       "      <td>34.3</td>\n",
       "    </tr>\n",
       "  </tbody>\n",
       "</table>\n",
       "</div>"
      ],
      "text/plain": [
       "   Unnamed: 0  X1 transaction date  X2 house age  \\\n",
       "0           0             2013.083          34.0   \n",
       "1           1             2013.500          13.3   \n",
       "2           2             2012.917          13.7   \n",
       "3           3             2013.500           8.5   \n",
       "4           4             2013.500          13.2   \n",
       "\n",
       "   X3 distance to the nearest MRT station  X4 number of convenience stores  \\\n",
       "0                                157.6052                              7.0   \n",
       "1                                561.9845                              5.0   \n",
       "2                               1236.5640                              1.0   \n",
       "3                                104.8101                              5.0   \n",
       "4                               1164.8380                              NaN   \n",
       "\n",
       "   X5 latitude  X6 longitude  Y house price of unit area  \n",
       "0     24.96628     121.54196                        39.1  \n",
       "1     24.98746     121.54391                        54.8  \n",
       "2     24.97694     121.55391                        30.6  \n",
       "3     24.96674     121.54067                        55.5  \n",
       "4     24.99156     121.53406                        34.3  "
      ]
     },
     "execution_count": 284,
     "metadata": {},
     "output_type": "execute_result"
    }
   ],
   "source": [
    "# Чтение данных\n",
    "data = pd.read_csv(file_path)\n",
    "\n",
    "# Просмотр первых строк для анализа структуры данных\n",
    "data.head()"
   ]
  },
  {
   "cell_type": "code",
   "execution_count": 285,
   "metadata": {},
   "outputs": [
    {
     "name": "stdout",
     "output_type": "stream",
     "text": [
      "<class 'pandas.core.frame.DataFrame'>\n",
      "RangeIndex: 331 entries, 0 to 330\n",
      "Data columns (total 8 columns):\n",
      " #   Column                                  Non-Null Count  Dtype  \n",
      "---  ------                                  --------------  -----  \n",
      " 0   Unnamed: 0                              331 non-null    int64  \n",
      " 1   X1 transaction date                     331 non-null    float64\n",
      " 2   X2 house age                            323 non-null    float64\n",
      " 3   X3 distance to the nearest MRT station  324 non-null    float64\n",
      " 4   X4 number of convenience stores         317 non-null    float64\n",
      " 5   X5 latitude                             331 non-null    float64\n",
      " 6   X6 longitude                            331 non-null    float64\n",
      " 7   Y house price of unit area              331 non-null    float64\n",
      "dtypes: float64(7), int64(1)\n",
      "memory usage: 20.8 KB\n"
     ]
    }
   ],
   "source": [
    "data.info()"
   ]
  },
  {
   "cell_type": "code",
   "execution_count": 286,
   "metadata": {},
   "outputs": [],
   "source": [
    "# Убираем лишний столбец с индексами\n",
    "data_cleaned = data.drop(columns=['Unnamed: 0'])"
   ]
  },
  {
   "cell_type": "code",
   "execution_count": 287,
   "metadata": {},
   "outputs": [
    {
     "data": {
      "text/html": [
       "<div>\n",
       "<style scoped>\n",
       "    .dataframe tbody tr th:only-of-type {\n",
       "        vertical-align: middle;\n",
       "    }\n",
       "\n",
       "    .dataframe tbody tr th {\n",
       "        vertical-align: top;\n",
       "    }\n",
       "\n",
       "    .dataframe thead th {\n",
       "        text-align: right;\n",
       "    }\n",
       "</style>\n",
       "<table border=\"1\" class=\"dataframe\">\n",
       "  <thead>\n",
       "    <tr style=\"text-align: right;\">\n",
       "      <th></th>\n",
       "      <th>X1 transaction date</th>\n",
       "      <th>X2 house age</th>\n",
       "      <th>X3 distance to the nearest MRT station</th>\n",
       "      <th>X4 number of convenience stores</th>\n",
       "      <th>X5 latitude</th>\n",
       "      <th>X6 longitude</th>\n",
       "      <th>Y house price of unit area</th>\n",
       "    </tr>\n",
       "  </thead>\n",
       "  <tbody>\n",
       "    <tr>\n",
       "      <th>X1 transaction date</th>\n",
       "      <td>1.000000</td>\n",
       "      <td>0.019600</td>\n",
       "      <td>0.063868</td>\n",
       "      <td>0.020173</td>\n",
       "      <td>0.043607</td>\n",
       "      <td>-0.068576</td>\n",
       "      <td>0.103270</td>\n",
       "    </tr>\n",
       "    <tr>\n",
       "      <th>X2 house age</th>\n",
       "      <td>0.019600</td>\n",
       "      <td>1.000000</td>\n",
       "      <td>0.037584</td>\n",
       "      <td>0.004413</td>\n",
       "      <td>0.029107</td>\n",
       "      <td>-0.067620</td>\n",
       "      <td>-0.256460</td>\n",
       "    </tr>\n",
       "    <tr>\n",
       "      <th>X3 distance to the nearest MRT station</th>\n",
       "      <td>0.063868</td>\n",
       "      <td>0.037584</td>\n",
       "      <td>1.000000</td>\n",
       "      <td>-0.640579</td>\n",
       "      <td>-0.587350</td>\n",
       "      <td>-0.822280</td>\n",
       "      <td>-0.672736</td>\n",
       "    </tr>\n",
       "    <tr>\n",
       "      <th>X4 number of convenience stores</th>\n",
       "      <td>0.020173</td>\n",
       "      <td>0.004413</td>\n",
       "      <td>-0.640579</td>\n",
       "      <td>1.000000</td>\n",
       "      <td>0.433858</td>\n",
       "      <td>0.474725</td>\n",
       "      <td>0.575161</td>\n",
       "    </tr>\n",
       "    <tr>\n",
       "      <th>X5 latitude</th>\n",
       "      <td>0.043607</td>\n",
       "      <td>0.029107</td>\n",
       "      <td>-0.587350</td>\n",
       "      <td>0.433858</td>\n",
       "      <td>1.000000</td>\n",
       "      <td>0.426538</td>\n",
       "      <td>0.541982</td>\n",
       "    </tr>\n",
       "    <tr>\n",
       "      <th>X6 longitude</th>\n",
       "      <td>-0.068576</td>\n",
       "      <td>-0.067620</td>\n",
       "      <td>-0.822280</td>\n",
       "      <td>0.474725</td>\n",
       "      <td>0.426538</td>\n",
       "      <td>1.000000</td>\n",
       "      <td>0.538171</td>\n",
       "    </tr>\n",
       "    <tr>\n",
       "      <th>Y house price of unit area</th>\n",
       "      <td>0.103270</td>\n",
       "      <td>-0.256460</td>\n",
       "      <td>-0.672736</td>\n",
       "      <td>0.575161</td>\n",
       "      <td>0.541982</td>\n",
       "      <td>0.538171</td>\n",
       "      <td>1.000000</td>\n",
       "    </tr>\n",
       "  </tbody>\n",
       "</table>\n",
       "</div>"
      ],
      "text/plain": [
       "                                        X1 transaction date  X2 house age  \\\n",
       "X1 transaction date                                1.000000      0.019600   \n",
       "X2 house age                                       0.019600      1.000000   \n",
       "X3 distance to the nearest MRT station             0.063868      0.037584   \n",
       "X4 number of convenience stores                    0.020173      0.004413   \n",
       "X5 latitude                                        0.043607      0.029107   \n",
       "X6 longitude                                      -0.068576     -0.067620   \n",
       "Y house price of unit area                         0.103270     -0.256460   \n",
       "\n",
       "                                        X3 distance to the nearest MRT station  \\\n",
       "X1 transaction date                                                   0.063868   \n",
       "X2 house age                                                          0.037584   \n",
       "X3 distance to the nearest MRT station                                1.000000   \n",
       "X4 number of convenience stores                                      -0.640579   \n",
       "X5 latitude                                                          -0.587350   \n",
       "X6 longitude                                                         -0.822280   \n",
       "Y house price of unit area                                           -0.672736   \n",
       "\n",
       "                                        X4 number of convenience stores  \\\n",
       "X1 transaction date                                            0.020173   \n",
       "X2 house age                                                   0.004413   \n",
       "X3 distance to the nearest MRT station                        -0.640579   \n",
       "X4 number of convenience stores                                1.000000   \n",
       "X5 latitude                                                    0.433858   \n",
       "X6 longitude                                                   0.474725   \n",
       "Y house price of unit area                                     0.575161   \n",
       "\n",
       "                                        X5 latitude  X6 longitude  \\\n",
       "X1 transaction date                        0.043607     -0.068576   \n",
       "X2 house age                               0.029107     -0.067620   \n",
       "X3 distance to the nearest MRT station    -0.587350     -0.822280   \n",
       "X4 number of convenience stores            0.433858      0.474725   \n",
       "X5 latitude                                1.000000      0.426538   \n",
       "X6 longitude                               0.426538      1.000000   \n",
       "Y house price of unit area                 0.541982      0.538171   \n",
       "\n",
       "                                        Y house price of unit area  \n",
       "X1 transaction date                                       0.103270  \n",
       "X2 house age                                             -0.256460  \n",
       "X3 distance to the nearest MRT station                   -0.672736  \n",
       "X4 number of convenience stores                           0.575161  \n",
       "X5 latitude                                               0.541982  \n",
       "X6 longitude                                              0.538171  \n",
       "Y house price of unit area                                1.000000  "
      ]
     },
     "execution_count": 287,
     "metadata": {},
     "output_type": "execute_result"
    }
   ],
   "source": [
    "data_cleaned.corr()"
   ]
  },
  {
   "cell_type": "code",
   "execution_count": 288,
   "metadata": {},
   "outputs": [
    {
     "data": {
      "text/plain": [
       "<Axes: >"
      ]
     },
     "execution_count": 288,
     "metadata": {},
     "output_type": "execute_result"
    },
    {
     "data": {
      "image/png": "[encoded data removed]",
      "text/plain": [
       "<Figure size 640x480 with 2 Axes>"
      ]
     },
     "metadata": {},
     "output_type": "display_data"
    }
   ],
   "source": [
    "sb.heatmap(data_cleaned.corr())"
   ]
  },
  {
   "cell_type": "code",
   "execution_count": 289,
   "metadata": {},
   "outputs": [],
   "source": [
    "# Разделяем признаки и целевую переменную\n",
    "X = data_cleaned.drop(columns=['Y house price of unit area'])\n",
    "y = data_cleaned['Y house price of unit area']"
   ]
  },
  {
   "cell_type": "code",
   "execution_count": 290,
   "metadata": {},
   "outputs": [],
   "source": [
    "# Применение KNN для заполнения пропусков в признаках\n",
    "knn_imputer = KNNImputer(n_neighbors=20)\n",
    "X_imputed = knn_imputer.fit_transform(X)"
   ]
  },
  {
   "cell_type": "code",
   "execution_count": 291,
   "metadata": {},
   "outputs": [],
   "source": [
    "# Разделяем на обучающую и тестовую выборки (80% на обучение, 20% на тест)\n",
    "X_train, X_test, y_train, y_test = train_test_split(X_imputed, y, test_size=0.1, random_state=42)"
   ]
  },
  {
   "cell_type": "code",
   "execution_count": 292,
   "metadata": {},
   "outputs": [],
   "source": [
    "# Путь к загруженному файлу\n",
    "file_path = 'data/merged_result.csv'"
   ]
  },
  {
   "cell_type": "code",
   "execution_count": 293,
   "metadata": {},
   "outputs": [],
   "source": [
    "# Чтение данных\n",
    "data_test = pd.read_csv(file_path)\n",
    "\n",
    "# Разделяем признаки и целевую переменную\n",
    "X = data_test.drop(columns=['Y house price of unit area'])\n",
    "y = data_test['Y house price of unit area']\n",
    "\n",
    "# Применение KNN для заполнения пропусков в признаках\n",
    "knn_imputer = KNNImputer(n_neighbors=20)\n",
    "X_imputed = knn_imputer.fit_transform(X)\n",
    "\n"
   ]
  },
  {
   "cell_type": "code",
   "execution_count": 294,
   "metadata": {},
   "outputs": [
    {
     "data": {
      "text/plain": [
       "(107.07355040652813, 7.663306956786268)"
      ]
     },
     "execution_count": 294,
     "metadata": {},
     "output_type": "execute_result"
    }
   ],
   "source": [
    "# Масштабирование признаков\n",
    "scaler = StandardScaler()\n",
    "X_train_scaled = scaler.fit_transform(X_train)\n",
    "X_test_scaled = scaler.transform(X_test)\n",
    "\n",
    "# Обучение модели на масштабированных данных\n",
    "model_scaled = LinearRegression()\n",
    "model_scaled.fit(X_train_scaled, y_train)\n",
    "\n",
    "# Предсказания на тестовой выборке\n",
    "y_pred_scaled = model_scaled.predict(X_test_scaled)\n",
    "\n",
    "# Оценка качества модели\n",
    "mse_scaled = mean_squared_error(y_test, y_pred_scaled)\n",
    "mae_scaled = mean_absolute_error(y_test, y_pred_scaled)\n",
    "\n",
    "mse_scaled, mae_scaled"
   ]
  },
  {
   "cell_type": "code",
   "execution_count": 295,
   "metadata": {},
   "outputs": [
    {
     "data": {
      "text/plain": [
       "(83.02390088997315, 6.904951868836558)"
      ]
     },
     "execution_count": 295,
     "metadata": {},
     "output_type": "execute_result"
    }
   ],
   "source": [
    "X_scaled = scaler.transform(X_imputed)\n",
    "\n",
    "# Предсказания на тестовой выборке\n",
    "y_pred_scaled = model_scaled.predict(X_scaled)\n",
    "\n",
    "# Оценка качества модели\n",
    "mse_scaled = mean_squared_error(y, y_pred_scaled)\n",
    "mae_scaled = mean_absolute_error(y, y_pred_scaled)\n",
    "\n",
    "mse_scaled, mae_scaled"
   ]
  },
  {
   "cell_type": "code",
   "execution_count": 296,
   "metadata": {},
   "outputs": [
    {
     "name": "stdout",
     "output_type": "stream",
     "text": [
      "Bagging Regressor MSE: 107.29049414250345, MAE: 7.698531952968879\n"
     ]
    }
   ],
   "source": [
    "# Добавляем Bagging регрессор\n",
    "bagging_model = BaggingRegressor(estimator=Ridge(alpha=0.5), n_estimators=50, random_state=42)\n",
    "bagging_model.fit(X_train_scaled, y_train)\n",
    "\n",
    "# Предсказания на тестовой выборке для Bagging\n",
    "y_pred_bagging = bagging_model.predict(X_test_scaled)\n",
    "\n",
    "# Оценка качества модели\n",
    "mse_bagging = mean_squared_error(y_test, y_pred_bagging)\n",
    "mae_bagging = mean_absolute_error(y_test, y_pred_bagging)\n",
    "\n",
    "print(f\"Bagging Regressor MSE: {mse_bagging}, MAE: {mae_bagging}\")"
   ]
  },
  {
   "cell_type": "code",
   "execution_count": 297,
   "metadata": {},
   "outputs": [
    {
     "name": "stdout",
     "output_type": "stream",
     "text": [
      "Bagging Regressor MSE: 82.50610781300188, MAE: 6.885465002013759\n"
     ]
    }
   ],
   "source": [
    "\n",
    "# Предсказания на тестовой выборке для Bagging\n",
    "y_pred_bagging = bagging_model.predict(X_scaled)\n",
    "\n",
    "# Оценка качества модели\n",
    "mse_bagging = mean_squared_error(y, y_pred_bagging)\n",
    "mae_bagging = mean_absolute_error(y, y_pred_bagging)\n",
    "\n",
    "print(f\"Bagging Regressor MSE: {mse_bagging}, MAE: {mae_bagging}\")"
   ]
  },
  {
   "cell_type": "code",
   "execution_count": 298,
   "metadata": {},
   "outputs": [
    {
     "name": "stdout",
     "output_type": "stream",
     "text": [
      "XGBoost (Linear) MSE: 91.3735, MAE: 6.7452\n"
     ]
    }
   ],
   "source": [
    "# Добавление полиномиальных признаков (например, степень 5)\n",
    "poly = PolynomialFeatures(degree=3)\n",
    "X_train_poly = poly.fit_transform(X_train_scaled)\n",
    "X_test_poly = poly.transform(X_test_scaled)\n",
    "\n",
    "# Обучаем XGBoost в линейном режиме\n",
    "boosting_model = xgb.XGBRegressor(booster=\"gblinear\", learning_rate=0.05, n_estimators=100, random_state=42)\n",
    "boosting_model.fit(X_train_poly, y_train)\n",
    "\n",
    "# Предсказания\n",
    "y_pred_boosting = boosting_model.predict(X_test_poly)\n",
    "\n",
    "# Оценка качества\n",
    "mse_boosting = mean_squared_error(y_test, y_pred_boosting)\n",
    "mae_boosting = mean_absolute_error(y_test, y_pred_boosting)\n",
    "\n",
    "print(f\"XGBoost (Linear) MSE: {mse_boosting:.4f}, MAE: {mae_boosting:.4f}\")"
   ]
  },
  {
   "cell_type": "code",
   "execution_count": 299,
   "metadata": {},
   "outputs": [
    {
     "name": "stdout",
     "output_type": "stream",
     "text": [
      "Boosting Regressor MSE: 69.3900258878763, MAE: 6.438864356351186\n"
     ]
    }
   ],
   "source": [
    "X_poly = poly.transform(X_scaled)\n",
    "\n",
    "# Предсказания на тестовой выборке для Boosting\n",
    "y_pred_boosting = boosting_model.predict(X_poly)\n",
    "\n",
    "# Оценка качества модели\n",
    "mse_boosting = mean_squared_error(y, y_pred_boosting)\n",
    "mae_boosting = mean_absolute_error(y, y_pred_boosting)\n",
    "\n",
    "print(f\"Boosting Regressor MSE: {mse_boosting}, MAE: {mae_boosting}\")"
   ]
  },
  {
   "cell_type": "code",
   "execution_count": 300,
   "metadata": {},
   "outputs": [
    {
     "name": "stdout",
     "output_type": "stream",
     "text": [
      "Ridge Regression MSE: 169.60509642022907, MAE: 7.922676456180136\n",
      "Lasso Regression MSE: 76.4376127698004, MAE: 5.668014001134892\n",
      "ElasticNet Regression MSE: 80.10641649074452, MAE: 6.005748173204376\n"
     ]
    },
    {
     "name": "stderr",
     "output_type": "stream",
     "text": [
      "c:\\Users\\Kostya\\AppData\\Local\\Programs\\Python\\Python312\\Lib\\site-packages\\sklearn\\linear_model\\_coordinate_descent.py:695: ConvergenceWarning: Objective did not converge. You might want to increase the number of iterations, check the scale of the features or consider increasing regularisation. Duality gap: 1.651e+02, tolerance: 5.536e+00\n",
      "  model = cd_fast.enet_coordinate_descent(\n"
     ]
    }
   ],
   "source": [
    "\n",
    "# Добавляем Ridge регрессор (L2 регуляризация)\n",
    "ridge_model = Ridge(alpha=0.5)  # alpha - коэффициент регуляризации\n",
    "ridge_model.fit(X_train_poly, y_train)\n",
    "\n",
    "# Предсказания на тестовой выборке для Ridge\n",
    "y_pred_ridge = ridge_model.predict(X_test_poly)\n",
    "\n",
    "# Оценка качества модели\n",
    "mse_ridge = mean_squared_error(y_test, y_pred_ridge)\n",
    "mae_ridge = mean_absolute_error(y_test, y_pred_ridge)\n",
    "\n",
    "print(f\"Ridge Regression MSE: {mse_ridge}, MAE: {mae_ridge}\")\n",
    "\n",
    "# Добавляем Lasso регрессор (L1 регуляризация)\n",
    "lasso_model = Lasso(alpha=0.1)  # alpha - коэффициент регуляризации\n",
    "lasso_model.fit(X_train_poly, y_train)\n",
    "\n",
    "# Предсказания на тестовой выборке для Lasso\n",
    "y_pred_lasso = lasso_model.predict(X_test_poly)\n",
    "\n",
    "# Оценка качества модели\n",
    "mse_lasso = mean_squared_error(y_test, y_pred_lasso)\n",
    "mae_lasso = mean_absolute_error(y_test, y_pred_lasso)\n",
    "\n",
    "print(f\"Lasso Regression MSE: {mse_lasso}, MAE: {mae_lasso}\")\n",
    "\n",
    "# Добавляем ElasticNet регрессор (комбинированная L1 и L2 регуляризация)\n",
    "elasticnet_model = ElasticNet(alpha=0.2, l1_ratio=0.78)  # alpha - коэффициент регуляризации, l1_ratio - соотношение L1/L2\n",
    "elasticnet_model.fit(X_train_poly, y_train)\n",
    "\n",
    "# Предсказания на тестовой выборке для ElasticNet\n",
    "y_pred_elasticnet = elasticnet_model.predict(X_test_poly)\n",
    "\n",
    "# Оценка качества модели\n",
    "mse_elasticnet = mean_squared_error(y_test, y_pred_elasticnet)\n",
    "mae_elasticnet = mean_absolute_error(y_test, y_pred_elasticnet)\n",
    "\n",
    "print(f\"ElasticNet Regression MSE: {mse_elasticnet}, MAE: {mae_elasticnet}\")"
   ]
  },
  {
   "cell_type": "code",
   "execution_count": 301,
   "metadata": {},
   "outputs": [
    {
     "name": "stdout",
     "output_type": "stream",
     "text": [
      "ElasticNet Regression MSE: 62.30562725079544, MAE: 5.84965901182918\n"
     ]
    }
   ],
   "source": [
    "# Предсказания на тестовой выборке для ElasticNet\n",
    "y_pred_elasticnet = elasticnet_model.predict(X_poly)\n",
    "\n",
    "# Оценка качества модели\n",
    "mse_elasticnet = mean_squared_error(y, y_pred_elasticnet)\n",
    "mae_elasticnet = mean_absolute_error(y, y_pred_elasticnet)\n",
    "\n",
    "print(f\"ElasticNet Regression MSE: {mse_elasticnet}, MAE: {mae_elasticnet}\")"
   ]
  },
  {
   "cell_type": "code",
   "execution_count": 302,
   "metadata": {},
   "outputs": [
    {
     "name": "stdout",
     "output_type": "stream",
     "text": [
      "Linear Regression with Polynomial Features MSE: 79.70888092174718, MAE: 5.965942420599397\n"
     ]
    }
   ],
   "source": [
    "# Обучение модели линейной регрессии с полиномиальными признаками\n",
    "model_poly = ElasticNet(alpha=0.19, l1_ratio=0.78)\n",
    "model_poly.fit(X_train_poly, y_train)\n",
    "\n",
    "# Предсказания на тестовой выборке\n",
    "y_pred_poly = model_poly.predict(X_test_poly)\n",
    "\n",
    "# Оценка качества модели с полиномиальными признаками\n",
    "mse_poly = mean_squared_error(y_test, y_pred_poly)\n",
    "mae_poly = mean_absolute_error(y_test, y_pred_poly)\n",
    "\n",
    "print(f\"Linear Regression with Polynomial Features MSE: {mse_poly}, MAE: {mae_poly}\")"
   ]
  },
  {
   "cell_type": "code",
   "execution_count": 303,
   "metadata": {},
   "outputs": [
    {
     "name": "stdout",
     "output_type": "stream",
     "text": [
      "Linear Regression with Polynomial Features MSE: 62.28326043307427, MAE: 5.834928828898007\n"
     ]
    }
   ],
   "source": [
    "\n",
    "\n",
    "# Предсказания на тестовой выборке\n",
    "y_pred_poly = model_poly.predict(X_poly)\n",
    "\n",
    "# Оценка качества модели с полиномиальными признаками\n",
    "mse_poly = mean_squared_error(y, y_pred_poly)\n",
    "mae_poly = mean_absolute_error(y, y_pred_poly)\n",
    "\n",
    "print(f\"Linear Regression with Polynomial Features MSE: {mse_poly}, MAE: {mae_poly}\")"
   ]
  },
  {
   "cell_type": "code",
   "execution_count": 304,
   "metadata": {},
   "outputs": [
    {
     "name": "stdout",
     "output_type": "stream",
     "text": [
      "Boosting with Polynomial Features MSE: 162.69269736617906, MAE: 6.829483489259182\n"
     ]
    }
   ],
   "source": [
    "# Добавление полиномиальных признаков (например, степень 2)\n",
    "poly = PolynomialFeatures(degree=3)\n",
    "X_train_poly = poly.fit_transform(X_train_scaled)\n",
    "X_test_poly = poly.transform(X_test_scaled)\n",
    "\n",
    "# Обучение модели Gradient Boosting с полиномиальными признаками\n",
    "boosting_model_poly = GradientBoostingRegressor(n_estimators=200, max_depth=5, learning_rate=0.05, random_state=42)\n",
    "boosting_model_poly.fit(X_train_poly, y_train)\n",
    "\n",
    "# Предсказания на тестовой выборке для Boosting с полиномиальными признаками\n",
    "y_pred_boosting_poly = boosting_model_poly.predict(X_test_poly)\n",
    "\n",
    "# Оценка качества модели Boosting с полиномиальными признаками\n",
    "mse_boosting_poly = mean_squared_error(y_test, y_pred_boosting_poly)\n",
    "mae_boosting_poly = mean_absolute_error(y_test, y_pred_boosting_poly)\n",
    "\n",
    "print(f\"Boosting with Polynomial Features MSE: {mse_boosting_poly}, MAE: {mae_boosting_poly}\")"
   ]
  },
  {
   "cell_type": "code",
   "execution_count": 305,
   "metadata": {},
   "outputs": [
    {
     "name": "stdout",
     "output_type": "stream",
     "text": [
      "Boosting with Polynomial Features MSE: 62.078907545973415, MAE: 5.354096568687714\n"
     ]
    }
   ],
   "source": [
    "X_poly = poly.transform(X_scaled)\n",
    "\n",
    "# Предсказания на тестовой выборке для Boosting с полиномиальными признаками\n",
    "y_pred_boosting_poly = boosting_model_poly.predict(X_poly)\n",
    "\n",
    "# Оценка качества модели Boosting с полиномиальными признаками\n",
    "mse_boosting_poly = mean_squared_error(y, y_pred_boosting_poly)\n",
    "mae_boosting_poly = mean_absolute_error(y, y_pred_boosting_poly)\n",
    "\n",
    "print(f\"Boosting with Polynomial Features MSE: {mse_boosting_poly}, MAE: {mae_boosting_poly}\")"
   ]
  },
  {
   "cell_type": "code",
   "execution_count": 306,
   "metadata": {},
   "outputs": [
    {
     "name": "stdout",
     "output_type": "stream",
     "text": [
      "Stacking (XGBoost + Standart) with Polynomial Features MSE: 108.2983, MAE: 7.1596\n"
     ]
    }
   ],
   "source": [
    "# Создание полиномиальных признаков (например, степень 2)\n",
    "poly = PolynomialFeatures(degree=3, include_bias=False)\n",
    "X_train_poly = poly.fit_transform(X_train_scaled)\n",
    "X_test_poly = poly.transform(X_test_scaled)\n",
    "\n",
    "\n",
    "selector = SelectKBest(score_func=f_regression, k=38)\n",
    "X_train_poly = selector.fit_transform(X_train_poly, y_train)\n",
    "X_test_poly = selector.transform(X_test_poly)\n",
    "\n",
    "# Определяем базовые модели для стекинга\n",
    "xgb_model = XGBRegressor(n_estimators=300, max_depth=7, learning_rate=0.1, random_state=42)\n",
    "\n",
    "# Определяем стекинг-регрессор\n",
    "stacking_model = StackingRegressor(\n",
    "    estimators=[\n",
    "        ('xgb', xgb_model)\n",
    "    ],\n",
    "    final_estimator=LinearRegression()\n",
    ")\n",
    "\n",
    "# Обучаем стекинг-модель\n",
    "stacking_model.fit(X_train_poly, y_train)\n",
    "\n",
    "# Предсказания на тестовой выборке\n",
    "y_pred_stacking = stacking_model.predict(X_test_poly)\n",
    "\n",
    "# Оценка качества модели\n",
    "mse_stacking = mean_squared_error(y_test, y_pred_stacking)\n",
    "mae_stacking = mean_absolute_error(y_test, y_pred_stacking)\n",
    "\n",
    "print(f\"Stacking (XGBoost + Standart) with Polynomial Features MSE: {mse_stacking:.4f}, MAE: {mae_stacking:.4f}\")"
   ]
  },
  {
   "cell_type": "code",
   "execution_count": 307,
   "metadata": {},
   "outputs": [
    {
     "name": "stdout",
     "output_type": "stream",
     "text": [
      "Stacking (XGBoost + Standart) with Polynomial Features MSE: 51.3519, MAE: 5.2395\n"
     ]
    }
   ],
   "source": [
    "X_poly = poly.transform(X_scaled)\n",
    "X_poly = selector.transform(X_poly)\n",
    "# Предсказания на тестовой выборке\n",
    "y_pred_stacking = stacking_model.predict(X_poly)\n",
    "\n",
    "# Оценка качества модели\n",
    "mse_stacking = mean_squared_error(y, y_pred_stacking)\n",
    "mae_stacking = mean_absolute_error(y, y_pred_stacking)\n",
    "\n",
    "print(f\"Stacking (XGBoost + Standart) with Polynomial Features MSE: {mse_stacking:.4f}, MAE: {mae_stacking:.4f}\")"
   ]
  },
  {
   "cell_type": "code",
   "execution_count": 308,
   "metadata": {},
   "outputs": [
    {
     "name": "stdout",
     "output_type": "stream",
     "text": [
      "Файл сохранён!\n"
     ]
    }
   ],
   "source": [
    "\n",
    "# Создаем DataFrame с индексами и округлёнными предсказаниями\n",
    "predictions_df = pd.DataFrame({\n",
    "    'index': np.arange(len(y_pred_stacking)),  # Индексы от 0 до N-1\n",
    "    'Y house price of unit area': y_pred_stacking\n",
    "})\n",
    "\n",
    "# Сохраняем в CSV без заголовков индекса\n",
    "predictions_df.to_csv('predictions.csv', index=False)\n",
    "\n",
    "print(\"Файл сохранён!\")"
   ]
  }
 ],
 "metadata": {
  "kernelspec": {
   "display_name": "Python 3",
   "language": "python",
   "name": "python3"
  },
  "language_info": {
   "codemirror_mode": {
    "name": "ipython",
    "version": 3
   },
   "file_extension": ".py",
   "mimetype": "text/x-python",
   "name": "python",
   "nbconvert_exporter": "python",
   "pygments_lexer": "ipython3",
   "version": "3.12.8"
  }
 },
 "nbformat": 4,
 "nbformat_minor": 2
}
